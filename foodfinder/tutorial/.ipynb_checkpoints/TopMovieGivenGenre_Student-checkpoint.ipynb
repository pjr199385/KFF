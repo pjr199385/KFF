{
 "cells": [
  {
   "cell_type": "markdown",
   "metadata": {},
   "source": [
    "### Week 5 Lab Exercise Notebook Template\n",
    "\n",
    "This is the notebook template for week 5 lab exercise. In this exercise, you are asked to find out the top 5 movies of a given genre based on the number of ratings a move receives. You should print the movie ids and the number of ratings received on the console.\n",
    "\n",
    "The following cell import necessary packages and expose pyspark to Jupyter Notebook."
   ]
  },
  {
   "cell_type": "code",
   "execution_count": null,
   "metadata": {
    "collapsed": true
   },
   "outputs": [],
   "source": [
    "import findspark\n",
    "from ml_utils import *\n",
    "findspark.init()\n",
    "from pyspark import SparkContext"
   ]
  },
  {
   "cell_type": "markdown",
   "metadata": {},
   "source": [
    "<span style=\"color:teal; font-weight: bold\">The following cell  creates a new SparkContext. It also specify the input path. Again, you can change the input path to match your own path.You can also change the genre value</span> "
   ]
  },
  {
   "cell_type": "code",
   "execution_count": null,
   "metadata": {
    "collapsed": true
   },
   "outputs": [],
   "source": [
    "sc = SparkContext(appName=\"Top Movie in Given Genra\")\n",
    "\n",
    "genre = 'Documentary'\n",
    "input_path = 'hdfs://soit-hdp-pro-1.ucc.usyd.edu.au/share/movie/small/'\n"
   ]
  },
  {
   "cell_type": "markdown",
   "metadata": {},
   "source": [
    "<span style=\"color:green; font-weight: bold\">In the following cell, define a few functions that you will need to implement the processing</span>\n",
    "\n",
    "Function defined here can access global variables such as ```genre```. You will probably need functions that can check if a movie belongs to a particular genre, you will also probably need a function to extract all ratings beloning to a particular genre."
   ]
  },
  {
   "cell_type": "code",
   "execution_count": null,
   "metadata": {
    "collapsed": true
   },
   "outputs": [],
   "source": [
    "#Define a few functions here \n"
   ]
  },
  {
   "cell_type": "markdown",
   "metadata": {},
   "source": [
    "<span style=\"color:teal; font-weight: bold\">In the following cell, read the two input files as RDD and use a series of transformations/actions to extract and aggregate information from the input file to produce the required output</span>"
   ]
  },
  {
   "cell_type": "code",
   "execution_count": null,
   "metadata": {
    "collapsed": true
   },
   "outputs": [],
   "source": [
    "#Read input into RDDs\n",
    "ratings = sc.textFile(input_path + \"ratings.csv\")\n",
    "movieData = sc.textFile(input_path + \"movies.csv\")\n",
    "#Write your own transformations/actions here to produce the result\n",
    "\n",
    "\n"
   ]
  },
  {
   "cell_type": "markdown",
   "metadata": {},
   "source": [
    "<span style=\"color:teal; font-weight: bold\">Always stop the contex to ensure a smooth run next time</span>"
   ]
  },
  {
   "cell_type": "code",
   "execution_count": null,
   "metadata": {
    "collapsed": true
   },
   "outputs": [],
   "source": [
    "sc.stop()"
   ]
  }
 ],
 "metadata": {
  "kernelspec": {
   "display_name": "Python 3",
   "language": "python",
   "name": "python3"
  },
  "language_info": {
   "codemirror_mode": {
    "name": "ipython",
    "version": 3
   },
   "file_extension": ".py",
   "mimetype": "text/x-python",
   "name": "python",
   "nbconvert_exporter": "python",
   "pygments_lexer": "ipython3",
   "version": "3.6.0"
  }
 },
 "nbformat": 4,
 "nbformat_minor": 2
}
